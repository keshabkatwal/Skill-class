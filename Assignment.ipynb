{
 "cells": [
  {
   "cell_type": "markdown",
   "metadata": {},
   "source": [
    "\n",
    "# Task Instructions:\n",
    "\n",
    "## 1.Personal Information\n",
    "1.Create a variable name (str) to store the user's name.\n",
    "\n",
    "2.Create a variable age (int) to store the user's age.\n",
    "\n",
    "3.Print a greeting message using these variables, e.g., \"Hello, my name is Alice and I am 30 years old.\""
   ]
  },
  {
   "cell_type": "code",
   "execution_count": 1,
   "metadata": {},
   "outputs": [
    {
     "name": "stdout",
     "output_type": "stream",
     "text": [
      "Hello, I'm keshab and I am 27 years old\n"
     ]
    }
   ],
   "source": [
    "name = input(\"Please Enter your name: \")\n",
    "age = int(input(\"Please input your age: \"))\n",
    "print(f\"Hello, I'm {name} and I am {age} years old\")"
   ]
  },
  {
   "cell_type": "markdown",
   "metadata": {},
   "source": [
    "## 2.Favorite Hobbies\n",
    "1.Create a list favorite_hobbies containing at least three hobbies as strings.\n",
    "\n",
    "2.Add another hobby to this list and print the updated list."
   ]
  },
  {
   "cell_type": "code",
   "execution_count": 2,
   "metadata": {},
   "outputs": [
    {
     "name": "stdout",
     "output_type": "stream",
     "text": [
      "['Futsal', 'Photography', 'cricket', 'paper reading']\n"
     ]
    }
   ],
   "source": [
    "favorite_hobbies = [\"Futsal\", \"Photography\", \"cricket\"]\n",
    "favorite_hobbies.append(\"paper reading\")\n",
    "print(favorite_hobbies)"
   ]
  },
  {
   "cell_type": "markdown",
   "metadata": {},
   "source": [
    "## 3.Screen Dimensions\n",
    "Define a tuple screen_dimensions with two integers representing the width and height of the user's preferred screen size for the app.\n",
    "\n",
    "Attempt to modify one of the values in the tuple to simulate an attempt to change screen preferences and comment on the outcome."
   ]
  },
  {
   "cell_type": "code",
   "execution_count": 3,
   "metadata": {},
   "outputs": [
    {
     "name": "stdout",
     "output_type": "stream",
     "text": [
      "(12, 18)\n"
     ]
    },
    {
     "data": {
      "text/plain": [
       "tuple"
      ]
     },
     "execution_count": 3,
     "metadata": {},
     "output_type": "execute_result"
    }
   ],
   "source": [
    "\n",
    "SD = (12, 18)\n",
    "print(SD)\n",
    "type(SD)"
   ]
  },
  {
   "cell_type": "code",
   "execution_count": 5,
   "metadata": {},
   "outputs": [
    {
     "ename": "TypeError",
     "evalue": "'tuple' object does not support item assignment",
     "output_type": "error",
     "traceback": [
      "\u001b[1;31m---------------------------------------------------------------------------\u001b[0m",
      "\u001b[1;31mTypeError\u001b[0m                                 Traceback (most recent call last)",
      "Cell \u001b[1;32mIn[5], line 1\u001b[0m\n\u001b[1;32m----> 1\u001b[0m \u001b[43mSD\u001b[49m\u001b[43m[\u001b[49m\u001b[38;5;241;43m0\u001b[39;49m\u001b[43m]\u001b[49m \u001b[38;5;241m=\u001b[39m \u001b[38;5;241m6.3\u001b[39m\n\u001b[0;32m      2\u001b[0m \u001b[38;5;28mprint\u001b[39m(SD)\n\u001b[0;32m      4\u001b[0m \u001b[38;5;66;03m#TypeError                                 Traceback (most recent call last)\u001b[39;00m\n\u001b[0;32m      5\u001b[0m \u001b[38;5;66;03m#Cell In[4], line 1\u001b[39;00m\n\u001b[0;32m      6\u001b[0m \u001b[38;5;66;03m#----> 1 SD[0] = 6.3\u001b[39;00m\n\u001b[0;32m      7\u001b[0m \u001b[38;5;66;03m#      2 print(SD)\u001b[39;00m\n\u001b[0;32m      8\u001b[0m \n\u001b[0;32m      9\u001b[0m \u001b[38;5;66;03m#TypeError: 'tuple' object does not support item assignment\u001b[39;00m\n",
      "\u001b[1;31mTypeError\u001b[0m: 'tuple' object does not support item assignment"
     ]
    }
   ],
   "source": [
    "SD[0] = 6.3\n",
    "print(SD)\n"
   ]
  },
  {
   "cell_type": "markdown",
   "metadata": {},
   "source": [
    "## 4. Pet Description\n",
    "Create a dictionary pet to describe the user's pet. It should include keys for type, name, age, and later, color.\n",
    "\n",
    "Add a color key to the pet dictionary with an appropriate value and print the pet's name and color."
   ]
  },
  {
   "cell_type": "code",
   "execution_count": 8,
   "metadata": {},
   "outputs": [
    {
     "name": "stdout",
     "output_type": "stream",
     "text": [
      "My pet name is Tom and it has a Blue colour on it\n"
     ]
    }
   ],
   "source": [
    "pet = {\"type\": \"Cat\",\"name\": \"Tom\",\"age\": 6}\n",
    "pet[\"colour\"] = \"Blue\"\n",
    "print(f\"My pet name is {pet['name']} and it has a {pet['colour']} colour on it\")"
   ]
  },
  {
   "cell_type": "markdown",
   "metadata": {},
   "source": [
    "## 5.Adult Status\n",
    "Determine if the user is an adult with a boolean variable is_adult. Consider someone an adult if they are 18 years old or more.\n",
    "\n",
    "Using conditional logic, print \"I am an adult.\" if true, and \"I am not an adult.\" if false."
   ]
  },
  {
   "cell_type": "code",
   "execution_count": 10,
   "metadata": {},
   "outputs": [
    {
     "name": "stdout",
     "output_type": "stream",
     "text": [
      "I am an an adult\n"
     ]
    }
   ],
   "source": [
    "is_adult=int(input(\"Eneter you age:\"))\n",
    "if is_adult >= 18:\n",
    "    print(\"I am an an adult\")\n",
    "else:\n",
    "    print(\"I am not adult\")"
   ]
  },
  {
   "cell_type": "markdown",
   "metadata": {},
   "source": [
    "## Question : Book Keeper\n",
    "\n",
    "Following the data below , complete the given Tasks :\n",
    "\n",
    "    A list of tuples, where each tuple contains information about a book: (title, genre, year_published, times_borrowed)."
   ]
  },
  {
   "cell_type": "markdown",
   "metadata": {},
   "source": [
    "## Task 01: Create a Book Filtering Function\n",
    "\n",
    "Given the list books as shown below, write a Python function named filter_books that filters books based on genre and publication year. \n",
    "\n",
    "The function should take two parameters: genre (a string) and year (an integer). It should return a list of book titles that match the given \n",
    "\n",
    "genre and have been published on or after the specified year.\n",
    "\n",
    "Example usage : ``` print(filter_books(\"Fiction\", 1980))```\n",
    "\n",
    "Expected output:``` ['The Alchemist', 'The Catcher in the Rye']```\n",
    "\n",
    "Try to use List Comprehension with If condition"
   ]
  },
  {
   "cell_type": "code",
   "execution_count": 11,
   "metadata": {},
   "outputs": [],
   "source": [
    "books = [\n",
    "    (\"The Alchemist\", \"Fiction\", 1988, 250),\n",
    "    (\"The Da Vinci Code\", \"Mystery\", 2003, 300),\n",
    "    (\"A Brief History of Time\", \"Science\", 1988, 150),\n",
    "    (\"The Theory of Everything\", \"Science\", 2002, 100),\n",
    "    (\"Pride and Prejudice\", \"Fiction\", 1813, 200),\n",
    "    (\"To Kill a Mockingbird\", \"Fiction\", 1960, 180),\n",
    "    (\"The Catcher in the Rye\", \"Fiction\", 1951, 220),\n",
    "    (\"Angels & Demons\", \"Mystery\", 2000, 210),\n",
    "    (\"The Grand Design\", \"Science\", 2010, 90),\n",
    "    (\"1984\", \"Fiction\", 1949, 190)\n",
    "]"
   ]
  },
  {
   "cell_type": "code",
   "execution_count": 13,
   "metadata": {},
   "outputs": [],
   "source": [
    "\n",
    "def filter_books(genre, year_published):\n",
    "    book_output = [book[0] for book in books if book[1] == genre and book[2] >= year_published]\n",
    "    return book_output\n",
    "    "
   ]
  },
  {
   "cell_type": "code",
   "execution_count": 16,
   "metadata": {},
   "outputs": [
    {
     "name": "stdout",
     "output_type": "stream",
     "text": [
      "['The Alchemist', 'To Kill a Mockingbird', 'The Catcher in the Rye']\n"
     ]
    }
   ],
   "source": [
    "# Example usage:\n",
    "print(filter_books(\"Fiction\", 1950))"
   ]
  },
  {
   "cell_type": "markdown",
   "metadata": {},
   "source": [
    "### Task 02 : Write a Python program that uses a lambda expression to sort this list by publication year in ascending order.\n",
    "\n",
    "Print the sorted list of books.\n",
    "\n",
    "Try using a lambda expression with the sorted() function"
   ]
  },
  {
   "cell_type": "code",
   "execution_count": 17,
   "metadata": {},
   "outputs": [
    {
     "name": "stdout",
     "output_type": "stream",
     "text": [
      "('Pride and Prejudice', 'Fiction', 1813, 200)\n",
      "('1984', 'Fiction', 1949, 190)\n",
      "('The Catcher in the Rye', 'Fiction', 1951, 220)\n",
      "('To Kill a Mockingbird', 'Fiction', 1960, 180)\n",
      "('The Alchemist', 'Fiction', 1988, 250)\n",
      "('A Brief History of Time', 'Science', 1988, 150)\n",
      "('Angels & Demons', 'Mystery', 2000, 210)\n",
      "('The Theory of Everything', 'Science', 2002, 100)\n",
      "('The Da Vinci Code', 'Mystery', 2003, 300)\n",
      "('The Grand Design', 'Science', 2010, 90)\n"
     ]
    }
   ],
   "source": [
    "books = [\n",
    "    (\"The Alchemist\", \"Fiction\", 1988, 250),\n",
    "    (\"The Da Vinci Code\", \"Mystery\", 2003, 300),\n",
    "    (\"A Brief History of Time\", \"Science\", 1988, 150),\n",
    "    (\"The Theory of Everything\", \"Science\", 2002, 100),\n",
    "    (\"Pride and Prejudice\", \"Fiction\", 1813, 200),\n",
    "    (\"To Kill a Mockingbird\", \"Fiction\", 1960, 180),\n",
    "    (\"The Catcher in the Rye\", \"Fiction\", 1951, 220),\n",
    "    (\"Angels & Demons\", \"Mystery\", 2000, 210),\n",
    "    (\"The Grand Design\", \"Science\", 2010, 90),\n",
    "    (\"1984\", \"Fiction\", 1949, 190)\n",
    "]\n",
    "\n",
    "# Sorting the books by publication year using a lambda expression\n",
    "sorted_books = sorted(books, key=lambda book: book[2])\n",
    "\n",
    "# Printing the sorted list of books\n",
    "for book in sorted_books:\n",
    "    print(book)\n"
   ]
  }
 ],
 "metadata": {
  "kernelspec": {
   "display_name": "Python 3",
   "language": "python",
   "name": "python3"
  },
  "language_info": {
   "codemirror_mode": {
    "name": "ipython",
    "version": 3
   },
   "file_extension": ".py",
   "mimetype": "text/x-python",
   "name": "python",
   "nbconvert_exporter": "python",
   "pygments_lexer": "ipython3",
   "version": "3.13.1"
  }
 },
 "nbformat": 4,
 "nbformat_minor": 2
}
