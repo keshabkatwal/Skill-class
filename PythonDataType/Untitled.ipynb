{
 "cells": [
  {
   "cell_type": "code",
   "execution_count": 1,
   "id": "d98214ee-305b-4845-90d3-9f9664fd3292",
   "metadata": {},
   "outputs": [],
   "source": [
    "name = \"John\"\n",
    "age=\"25\""
   ]
  },
  {
   "cell_type": "code",
   "execution_count": 2,
   "id": "99dc1d71-62ce-4ec1-bad7-cc2ffcb7c37b",
   "metadata": {},
   "outputs": [
    {
     "ename": "_IncompleteInputError",
     "evalue": "incomplete input (163577993.py, line 1)",
     "output_type": "error",
     "traceback": [
      "\u001b[1;36m  Cell \u001b[1;32mIn[2], line 1\u001b[1;36m\u001b[0m\n\u001b[1;33m    print(\"Your name is %s and %d years old.\"\u001b[0m\n\u001b[1;37m                                             ^\u001b[0m\n\u001b[1;31m_IncompleteInputError\u001b[0m\u001b[1;31m:\u001b[0m incomplete input\n"
     ]
    }
   ],
   "source": [
    "print(\"Your name is %s and %d years old.\""
   ]
  },
  {
   "cell_type": "code",
   "execution_count": 3,
   "id": "bccc1fc8-2a1d-4665-8b40-e4d0f4f0d1a9",
   "metadata": {},
   "outputs": [],
   "source": [
    "x= \"piece\"\n",
    "y=\"of\"\n",
    "z=\"coco\""
   ]
  },
  {
   "cell_type": "code",
   "execution_count": 4,
   "id": "e48ae4e9-5241-4e34-9ec6-b9092c80e895",
   "metadata": {},
   "outputs": [
    {
     "data": {
      "text/plain": [
       "'piece of coco'"
      ]
     },
     "execution_count": 4,
     "metadata": {},
     "output_type": "execute_result"
    }
   ],
   "source": [
    "x+ \" \" + y + \" \" + z"
   ]
  },
  {
   "cell_type": "code",
   "execution_count": 7,
   "id": "d73d57b0-fb78-452e-bbe3-cc534a91d285",
   "metadata": {},
   "outputs": [],
   "source": [
    "concat = f\"{x} {y} {z}\""
   ]
  },
  {
   "cell_type": "code",
   "execution_count": 9,
   "id": "c8fa57ed-94b2-41e2-a8d2-0937289da43e",
   "metadata": {},
   "outputs": [
    {
     "data": {
      "text/plain": [
       "5"
      ]
     },
     "execution_count": 9,
     "metadata": {},
     "output_type": "execute_result"
    }
   ],
   "source": [
    "len(x)"
   ]
  },
  {
   "cell_type": "code",
   "execution_count": null,
   "id": "793e5d8b-193e-4427-8805-57b029108a0b",
   "metadata": {},
   "outputs": [],
   "source": []
  }
 ],
 "metadata": {
  "kernelspec": {
   "display_name": "Python 3 (ipykernel)",
   "language": "python",
   "name": "python3"
  },
  "language_info": {
   "codemirror_mode": {
    "name": "ipython",
    "version": 3
   },
   "file_extension": ".py",
   "mimetype": "text/x-python",
   "name": "python",
   "nbconvert_exporter": "python",
   "pygments_lexer": "ipython3",
   "version": "3.13.1"
  }
 },
 "nbformat": 4,
 "nbformat_minor": 5
}
