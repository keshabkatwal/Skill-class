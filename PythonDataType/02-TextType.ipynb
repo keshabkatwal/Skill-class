{
 "cells": [
  {
   "cell_type": "code",
   "execution_count": 3,
   "id": "99bec2ee-99c7-4082-81f8-8c0d4178068b",
   "metadata": {},
   "outputs": [],
   "source": [
    "message = \"hello, World!\""
   ]
  },
  {
   "cell_type": "code",
   "execution_count": 4,
   "id": "ae7556a9-c90b-4663-9c1d-33f1855aa2e5",
   "metadata": {},
   "outputs": [
    {
     "name": "stdout",
     "output_type": "stream",
     "text": [
      "hello, World!\n"
     ]
    }
   ],
   "source": [
    "print(message)"
   ]
  },
  {
   "cell_type": "code",
   "execution_count": 5,
   "id": "47086c57-4703-42e4-92b6-f18f92175730",
   "metadata": {},
   "outputs": [
    {
     "data": {
      "text/plain": [
       "str"
      ]
     },
     "execution_count": 5,
     "metadata": {},
     "output_type": "execute_result"
    }
   ],
   "source": [
    "type(message)"
   ]
  },
  {
   "cell_type": "code",
   "execution_count": 8,
   "id": "c2b6cd98-83d7-42b8-be84-7fd8c09496f6",
   "metadata": {},
   "outputs": [],
   "source": [
    "sent = \"\"\"\n",
    "Today, I wont be able to be in class\n",
    " best regarde \n",
    " keshab \n",
    " \"\"\""
   ]
  },
  {
   "cell_type": "code",
   "execution_count": 9,
   "id": "edcd4ae8-3564-495e-bd84-a59f9dd43e72",
   "metadata": {},
   "outputs": [
    {
     "data": {
      "text/plain": [
       "str"
      ]
     },
     "execution_count": 9,
     "metadata": {},
     "output_type": "execute_result"
    }
   ],
   "source": [
    "type(sent)\n"
   ]
  },
  {
   "cell_type": "code",
   "execution_count": 11,
   "id": "47783428-2fe8-4649-b6f0-8d5bec1ba192",
   "metadata": {},
   "outputs": [],
   "source": [
    "a=str(6)\n"
   ]
  },
  {
   "cell_type": "code",
   "execution_count": null,
   "id": "4f7141e2-d432-4fb5-8d55-786487c1a2f9",
   "metadata": {},
   "outputs": [],
   "source": [
    "int(a)"
   ]
  },
  {
   "cell_type": "code",
   "execution_count": null,
   "id": "427b50ba-91be-4c7d-809a-022568c1cfd5",
   "metadata": {},
   "outputs": [],
   "source": []
  }
 ],
 "metadata": {
  "kernelspec": {
   "display_name": "Python 3 (ipykernel)",
   "language": "python",
   "name": "python3"
  },
  "language_info": {
   "codemirror_mode": {
    "name": "ipython",
    "version": 3
   },
   "file_extension": ".py",
   "mimetype": "text/x-python",
   "name": "python",
   "nbconvert_exporter": "python",
   "pygments_lexer": "ipython3",
   "version": "3.13.1"
  }
 },
 "nbformat": 4,
 "nbformat_minor": 5
}
